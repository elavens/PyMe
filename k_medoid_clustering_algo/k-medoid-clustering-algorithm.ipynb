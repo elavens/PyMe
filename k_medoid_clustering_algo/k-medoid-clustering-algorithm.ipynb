{
 "cells": [
  {
   "cell_type": "code",
   "execution_count": 35,
   "id": "e3e9d2b7",
   "metadata": {},
   "outputs": [
    {
     "name": "stdout",
     "output_type": "stream",
     "text": [
      "Initial dissimilarity: 210\n",
      "Medoid 1: [4 4]\n",
      "Medoid 2: [15  8]\n",
      "New dissimilarity: 177\n",
      "Medoid 1: [4 4]\n",
      "Medoid 2: [24  4]\n",
      "New dissimilarity: 145\n",
      "Medoid 1: [8 4]\n",
      "Medoid 2: [24  4]\n"
     ]
    },
    {
     "data": {
      "text/plain": [
       "array([1., 1., 1., 2., 2.])"
      ]
     },
     "execution_count": 35,
     "metadata": {},
     "output_type": "execute_result"
    }
   ],
   "source": [
    "import numpy as np\n",
    "\n",
    "def k_medoids(X, k):\n",
    "    n = X.shape[0]\n",
    "    medoids = np.random.choice(n, k, replace=False)\n",
    "    clusters = [[] for _ in range(k)]\n",
    "    for i in range(n):\n",
    "        distances = np.sum((X[i] - X[medoids])**2, axis=1)\n",
    "        cluster_index = np.argmin(distances)\n",
    "        clusters[cluster_index].append(i)\n",
    "    dissimilarity = 0\n",
    "    for i in range(k):\n",
    "        dissimilarity += np.sum((X[clusters[i]] - X[medoids[i]])**2)\n",
    "    print(f'Initial dissimilarity: {dissimilarity}')\n",
    "    for i in range(k):\n",
    "        print(f'Medoid {i+1}: {X[medoids[i]]}')\n",
    "    labels = np.zeros(n)\n",
    "    for i in range(k):\n",
    "        labels[clusters[i]] = i+1\n",
    "    while True:\n",
    "        old_medoids = np.copy(medoids)\n",
    "        for i in range(k):\n",
    "            non_medoids = [j for j in range(n) if j not in medoids]\n",
    "            for j in non_medoids:\n",
    "                new_medoids = np.copy(medoids)\n",
    "                new_medoids[i] = j\n",
    "                new_clusters = [[] for _ in range(k)]\n",
    "                for l in range(n):\n",
    "                    distances = np.sum((X[l] - X[new_medoids])**2, axis=1)\n",
    "                    cluster_index = np.argmin(distances)\n",
    "                    new_clusters[cluster_index].append(l)\n",
    "                new_dissimilarity = 0\n",
    "                for l in range(k):\n",
    "                    new_dissimilarity += np.sum((X[new_clusters[l]] - X[new_medoids[l]])**2)\n",
    "                if new_dissimilarity < dissimilarity:\n",
    "                    dissimilarity = new_dissimilarity\n",
    "                    medoids = np.copy(new_medoids)\n",
    "                    clusters = new_clusters\n",
    "                    print(f'New dissimilarity: {dissimilarity}')\n",
    "                    for m in range(k):\n",
    "                        print(f'Medoid {m+1}: {X[medoids[m]]}')\n",
    "                    labels = np.zeros(n)\n",
    "                    for m in range(k):\n",
    "                        labels[clusters[m]] = m+1\n",
    "        if np.array_equal(old_medoids, medoids):\n",
    "            break\n",
    "    return labels\n",
    "\n",
    "# example usage:\n",
    "X = np.array([[4, 4], [8, 4], [15, 8], [24, 4], [24, 12]])\n",
    "k_medoids(X, 2)\n"
   ]
  }
 ],
 "metadata": {
  "kernelspec": {
   "display_name": "Python 3 (ipykernel)",
   "language": "python",
   "name": "python3"
  },
  "language_info": {
   "codemirror_mode": {
    "name": "ipython",
    "version": 3
   },
   "file_extension": ".py",
   "mimetype": "text/x-python",
   "name": "python",
   "nbconvert_exporter": "python",
   "pygments_lexer": "ipython3",
   "version": "3.10.9"
  }
 },
 "nbformat": 4,
 "nbformat_minor": 5
}

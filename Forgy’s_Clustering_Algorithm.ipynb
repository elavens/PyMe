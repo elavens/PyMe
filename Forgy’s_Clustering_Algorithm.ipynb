{
  "nbformat": 4,
  "nbformat_minor": 0,
  "metadata": {
    "colab": {
      "provenance": [],
      "mount_file_id": "1nbtYsbdzjguJOYkiXApiFPDPr2Y755-N",
      "authorship_tag": "ABX9TyPjxYeXYKMWWWWjiQoO1iCf",
      "include_colab_link": true
    },
    "kernelspec": {
      "name": "python3",
      "display_name": "Python 3"
    },
    "language_info": {
      "name": "python"
    }
  },
  "cells": [
    {
      "cell_type": "markdown",
      "metadata": {
        "id": "view-in-github",
        "colab_type": "text"
      },
      "source": [
        "<a href=\"https://colab.research.google.com/github/elavens/PyMe/blob/main/Forgy%E2%80%99s_Clustering_Algorithm.ipynb\" target=\"_parent\"><img src=\"https://colab.research.google.com/assets/colab-badge.svg\" alt=\"Open In Colab\"/></a>"
      ]
    },
    {
      "cell_type": "code",
      "execution_count": 5,
      "metadata": {
        "id": "q5xgAqGKXFhj"
      },
      "outputs": [],
      "source": [
        "import numpy as np\n",
        "import pandas as pd\n",
        "import matplotlib.pyplot as plt\n",
        "from scipy.cluster.hierarchy import dendrogram, linkage"
      ]
    },
    {
      "cell_type": "code",
      "source": [
        "data = pd.read_excel('/content/drive/MyDrive/read.xlsx')\n",
        "print(data)"
      ],
      "metadata": {
        "colab": {
          "base_uri": "https://localhost:8080/"
        },
        "id": "luSOHqG9Xpod",
        "outputId": "68c45b00-6fb3-4e47-ad04-1f45f1feaa9e"
      },
      "execution_count": 6,
      "outputs": [
        {
          "output_type": "stream",
          "name": "stdout",
          "text": [
            "    X   Y\n",
            "0   3   7\n",
            "1   2  10\n",
            "2   2  10\n",
            "3  15   7\n",
            "4   2  10\n",
            "5   3   7\n"
          ]
        }
      ]
    },
    {
      "cell_type": "code",
      "source": [
        "x_values = data['X'].tolist()\n",
        "y_values = data['Y'].tolist()\n",
        "\n",
        "\n",
        "X = [[x, y] for x, y in zip(x_values, y_values)]\n",
        "\n",
        "print('X=' ,X)"
      ],
      "metadata": {
        "colab": {
          "base_uri": "https://localhost:8080/"
        },
        "id": "cw87JVFEX9Kw",
        "outputId": "0d4da140-6899-4142-97c0-11a84fa9083e"
      },
      "execution_count": 7,
      "outputs": [
        {
          "output_type": "stream",
          "name": "stdout",
          "text": [
            "X= [[3, 7], [2, 10], [2, 10], [15, 7], [2, 10], [3, 7]]\n"
          ]
        }
      ]
    },
    {
      "cell_type": "code",
      "source": [
        "#plotting the datapoint before clustering\n",
        "\n",
        "x = data['X']\n",
        "y = data['Y']\n",
        "plt.scatter(x, y)\n",
        "plt.grid(True)\n",
        "plt.xlim(min(x) - 10, max(x) + 10)\n",
        "plt.ylim(min(y) - 10, max(y) + 10)\n",
        "plt.axhline(0, color='black', linewidth=0.5)\n",
        "plt.axvline(0, color='black', linewidth=0.5)\n",
        "\n",
        "# Display grid lines at every unit\n",
        "# plt.xticks(range(int(min(x)) - 10, int(max(x)) + 11))\n",
        "# plt.yticks(range(int(min(y)) - 10, int(max(y)) + 11))"
      ],
      "metadata": {
        "colab": {
          "base_uri": "https://localhost:8080/",
          "height": 452
        },
        "id": "8_sH9DaoY8I6",
        "outputId": "f2ba09e8-4163-499c-c5f7-09e5a8dbcac1"
      },
      "execution_count": 9,
      "outputs": [
        {
          "output_type": "execute_result",
          "data": {
            "text/plain": [
              "<matplotlib.lines.Line2D at 0x7f5cc9ff1690>"
            ]
          },
          "metadata": {},
          "execution_count": 9
        },
        {
          "output_type": "display_data",
          "data": {
            "text/plain": [
              "<Figure size 640x480 with 1 Axes>"
            ],
            "image/png": "[encoded data removed]"
          },
          "metadata": {}
        }
      ]
    },
    {
      "cell_type": "code",
      "source": [
        "# forgy clustering er main kajgulo ei module a.. implementation of forgy clustring from scratch\n",
        "\n",
        "def euclidean_distance(point1, point2):\n",
        "    return np.sqrt(np.sum((point1 - point2) ** 2))\n",
        "\n",
        "def k_means_clustering(data, k):\n",
        "    # Step 1: Initialize centroids\n",
        "    centroids = data[:k]\n",
        "\n",
        "    iteration = 0\n",
        "    while True:\n",
        "        iteration += 1\n",
        "        print(f\"Iteration {iteration}\")\n",
        "        print(\"Current centroids:\")\n",
        "        for centroid in centroids:\n",
        "            print(centroid)\n",
        "        print()\n",
        "\n",
        "        # Step 2: Assign data points to clusters\n",
        "        clusters = [[] for _ in range(k)]\n",
        "        for point in data:\n",
        "            distances = [euclidean_distance(point, centroid) for centroid in centroids]\n",
        "            cluster_index = np.argmin(distances)\n",
        "            clusters[cluster_index].append(point)\n",
        "\n",
        "        # Step 3: Calculate new centroids\n",
        "        new_centroids = []\n",
        "        for cluster in clusters:\n",
        "            new_centroid = np.mean(cluster, axis=0)\n",
        "            new_centroids.append(new_centroid)\n",
        "\n",
        "        # Step 4: Check if centroids have changed\n",
        "        if np.allclose(centroids, new_centroids):\n",
        "            break\n",
        "\n",
        "        centroids = new_centroids\n",
        "\n",
        "    print(\"Final centroids:\")\n",
        "    for centroid in centroids:\n",
        "        print(centroid)\n",
        "\n",
        "    return clusters\n",
        "\n",
        "\n",
        "data = np.array(X)\n",
        "k = int(input(\"Enter the number of cluster(k): \"))\n",
        "\n",
        "clusters = k_means_clustering(data, k)\n",
        "for i, cluster in enumerate(clusters):\n",
        "    print(f\"Cluster {i+1}:\")\n",
        "    for point in cluster:\n",
        "        print(point)\n",
        "    print()"
      ],
      "metadata": {
        "colab": {
          "base_uri": "https://localhost:8080/"
        },
        "id": "RVlgPgtzZGIW",
        "outputId": "7c814bfc-ec13-41d4-bf3b-cf0c098e214d"
      },
      "execution_count": 10,
      "outputs": [
        {
          "output_type": "stream",
          "name": "stdout",
          "text": [
            "Enter the number of cluster(k): 2\n",
            "Iteration 1\n",
            "Current centroids:\n",
            "[3 7]\n",
            "[ 2 10]\n",
            "\n",
            "Iteration 2\n",
            "Current centroids:\n",
            "[7. 7.]\n",
            "[ 2. 10.]\n",
            "\n",
            "Iteration 3\n",
            "Current centroids:\n",
            "[15.  7.]\n",
            "[2.4 8.8]\n",
            "\n",
            "Final centroids:\n",
            "[15.  7.]\n",
            "[2.4 8.8]\n",
            "Cluster 1:\n",
            "[15  7]\n",
            "\n",
            "Cluster 2:\n",
            "[3 7]\n",
            "[ 2 10]\n",
            "[ 2 10]\n",
            "[ 2 10]\n",
            "[3 7]\n",
            "\n"
          ]
        }
      ]
    }
  ]
}
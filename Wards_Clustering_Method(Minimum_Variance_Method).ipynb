{
  "nbformat": 4,
  "nbformat_minor": 0,
  "metadata": {
    "colab": {
      "provenance": [],
      "mount_file_id": "1OgKFtzdxdavUF5u3MKUopwt5wQGCaZTl",
      "authorship_tag": "ABX9TyOsSGLJcCrJcPvMOV9fIH+6",
      "include_colab_link": true
    },
    "kernelspec": {
      "name": "python3",
      "display_name": "Python 3"
    },
    "language_info": {
      "name": "python"
    }
  },
  "cells": [
    {
      "cell_type": "markdown",
      "metadata": {
        "id": "view-in-github",
        "colab_type": "text"
      },
      "source": [
        "<a href=\"https://colab.research.google.com/github/elavens/PyMe/blob/main/Wards_Clustering_Method(Minimum_Variance_Method).ipynb\" target=\"_parent\"><img src=\"https://colab.research.google.com/assets/colab-badge.svg\" alt=\"Open In Colab\"/></a>"
      ]
    },
    {
      "cell_type": "code",
      "execution_count": 2,
      "metadata": {
        "id": "hqIbitIlUQ3X"
      },
      "outputs": [],
      "source": [
        "import numpy as np\n",
        "import pandas as pd\n",
        "import matplotlib.pyplot as plt\n",
        "from scipy.cluster.hierarchy import dendrogram, linkage"
      ]
    },
    {
      "cell_type": "code",
      "source": [
        "data = pd.read_excel('/content/drive/MyDrive/read.xlsx')\n",
        "print(data)\n",
        "\n",
        "x_values = data['X'].tolist()\n",
        "y_values = data['Y'].tolist()\n",
        "\n",
        "\n",
        "X = [[x, y] for x, y in zip(x_values, y_values)]\n",
        "\n",
        "print('X=' ,X)\n"
      ],
      "metadata": {
        "colab": {
          "base_uri": "https://localhost:8080/"
        },
        "id": "VFQ6gNbZUmUG",
        "outputId": "58d82d9a-4d15-4a46-9572-44463fbbb695"
      },
      "execution_count": 4,
      "outputs": [
        {
          "output_type": "stream",
          "name": "stdout",
          "text": [
            "    X   Y\n",
            "0   3   7\n",
            "1   2  10\n",
            "2   2  10\n",
            "3  15   7\n",
            "4   2  10\n",
            "5   3   7\n",
            "X= [[3, 7], [2, 10], [2, 10], [15, 7], [2, 10], [3, 7]]\n"
          ]
        }
      ]
    },
    {
      "cell_type": "code",
      "source": [
        "def ward_clustering(X):\n",
        "    n = X.shape[0]\n",
        "    clusters = [[i] for i in range(1, n+1)]\n",
        "    while len(clusters) > 1:\n",
        "        min_error = np.inf\n",
        "        merge_index = (0, 0)\n",
        "        for i in range(len(clusters)):\n",
        "            for j in range(i+1, len(clusters)):\n",
        "                error = np.sum((X[np.array(clusters[i])-1][:, None] - X[np.array(clusters[j])-1][None, :])**2)\n",
        "                if error < min_error:\n",
        "                    min_error = error\n",
        "                    merge_index = (i, j)\n",
        "        clusters.append(clusters[merge_index[0]] + clusters[merge_index[1]])\n",
        "        del clusters[merge_index[1]]\n",
        "        del clusters[merge_index[0]]\n",
        "        variances = []\n",
        "        for c in clusters:\n",
        "            mean = np.mean(X[np.array(c)-1], axis=0)\n",
        "            var = np.sum((X[np.array(c)-1] - mean)**2)\n",
        "            variances.append(var)\n",
        "        print(f\"Clusters: {clusters}, Variances: {variances}, Error: {min_error}\")\n",
        "    return clusters\n",
        "\n",
        "X = np.array(X)\n",
        "ward_clustering(X)\n"
      ],
      "metadata": {
        "colab": {
          "base_uri": "https://localhost:8080/"
        },
        "id": "z6Rw0c6oVg_Q",
        "outputId": "ac77183f-d292-460f-c6d5-06abc3456feb"
      },
      "execution_count": 5,
      "outputs": [
        {
          "output_type": "stream",
          "name": "stdout",
          "text": [
            "Clusters: [[2], [3], [4], [5], [1, 6]], Variances: [0.0, 0.0, 0.0, 0.0, 0.0], Error: 0\n",
            "Clusters: [[4], [5], [1, 6], [2, 3]], Variances: [0.0, 0.0, 0.0, 0.0], Error: 0\n",
            "Clusters: [[4], [1, 6], [5, 2, 3]], Variances: [0.0, 0.0, 0.0], Error: 0\n",
            "Clusters: [[4], [1, 6, 5, 2, 3]], Variances: [0.0, 12.0], Error: 60\n",
            "Clusters: [[4, 1, 6, 5, 2, 3]], Variances: [147.0], Error: 822\n"
          ]
        },
        {
          "output_type": "execute_result",
          "data": {
            "text/plain": [
              "[[4, 1, 6, 5, 2, 3]]"
            ]
          },
          "metadata": {},
          "execution_count": 5
        }
      ]
    },
    {
      "cell_type": "code",
      "source": [
        "#dendogram\n",
        "def ward_dendrogram(data, labels):\n",
        "    linkage_matrix = linkage(data, method='ward')\n",
        "    plt.figure(figsize=(10, 6))\n",
        "    dendrogram(linkage_matrix, labels=labels)\n",
        "    plt.xlabel('Data Points')\n",
        "    plt.ylabel('Distance')\n",
        "    plt.title('Ward Dendrogram')\n",
        "    plt.show()\n",
        "\n",
        "labels = np.arange(1, len(X) + 1)\n",
        "ward_dendrogram(X, labels)\n"
      ],
      "metadata": {
        "colab": {
          "base_uri": "https://localhost:8080/",
          "height": 568
        },
        "id": "DjTQDjrMVpLe",
        "outputId": "5c98f7ad-829b-4b26-9002-72dadf33ab6a"
      },
      "execution_count": 6,
      "outputs": [
        {
          "output_type": "display_data",
          "data": {
            "text/plain": [
              "<Figure size 1000x600 with 1 Axes>"
            ],
            "image/png": "[encoded data removed]"
          },
          "metadata": {}
        }
      ]
    }
  ]
}
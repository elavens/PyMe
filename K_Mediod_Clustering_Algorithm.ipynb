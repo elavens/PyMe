{
  "nbformat": 4,
  "nbformat_minor": 0,
  "metadata": {
    "colab": {
      "provenance": [],
      "mount_file_id": "1nbtYsbdzjguJOYkiXApiFPDPr2Y755-N",
      "authorship_tag": "ABX9TyMH80OyrBdFMkHJ/K9cgDbP",
      "include_colab_link": true
    },
    "kernelspec": {
      "name": "python3",
      "display_name": "Python 3"
    },
    "language_info": {
      "name": "python"
    }
  },
  "cells": [
    {
      "cell_type": "markdown",
      "metadata": {
        "id": "view-in-github",
        "colab_type": "text"
      },
      "source": [
        "<a href=\"https://colab.research.google.com/github/elavens/PyMe/blob/main/K_Mediod_Clustering_Algorithm.ipynb\" target=\"_parent\"><img src=\"https://colab.research.google.com/assets/colab-badge.svg\" alt=\"Open In Colab\"/></a>"
      ]
    },
    {
      "cell_type": "code",
      "execution_count": 30,
      "metadata": {
        "colab": {
          "base_uri": "https://localhost:8080/",
          "height": 1000
        },
        "id": "q5xgAqGKXFhj",
        "outputId": "a9fcbcb5-e8f4-46c9-a774-390791247903"
      },
      "outputs": [
        {
          "output_type": "stream",
          "name": "stdout",
          "text": [
            "Iteration 1\n",
            "Cluster 1:\n",
            "[array([12, 12]), array([14, 14]), array([16, 35]), array([17, 35]), array([15, 15]), array([30, 35])]\n",
            "Centroid: [12 12]\n",
            "\n",
            "Cluster 2:\n",
            "[array([4, 8])]\n",
            "Centroid: [4 8]\n",
            "\n",
            "Cluster 3:\n",
            "[array([6, 9])]\n",
            "Centroid: [6 9]\n",
            "\n",
            "Iteration 2\n",
            "Cluster 1:\n",
            "[array([16, 35]), array([17, 35]), array([15, 15]), array([30, 35])]\n",
            "Centroid: [15.5 25. ]\n",
            "\n",
            "Cluster 2:\n",
            "[array([4, 8])]\n",
            "Centroid: [4. 8.]\n",
            "\n",
            "Cluster 3:\n",
            "[array([12, 12]), array([6, 9]), array([14, 14])]\n",
            "Centroid: [6. 9.]\n",
            "\n",
            "Iteration 3\n",
            "Cluster 1:\n",
            "[array([16, 35]), array([17, 35]), array([30, 35])]\n",
            "Centroid: [16.5 35. ]\n",
            "\n",
            "Cluster 2:\n",
            "[array([4, 8]), array([6, 9])]\n",
            "Centroid: [4. 8.]\n",
            "\n",
            "Cluster 3:\n",
            "[array([12, 12]), array([14, 14]), array([15, 15])]\n",
            "Centroid: [12. 12.]\n",
            "\n",
            "Final Result\n",
            "Cluster 1:\n",
            "[array([16, 35]), array([17, 35]), array([30, 35])]\n",
            "Centroid: [17. 35.]\n",
            "\n",
            "Cluster 2:\n",
            "[array([4, 8]), array([6, 9])]\n",
            "Centroid: [5.  8.5]\n",
            "\n",
            "Cluster 3:\n",
            "[array([12, 12]), array([14, 14]), array([15, 15])]\n",
            "Centroid: [14. 14.]\n",
            "\n"
          ]
        },
        {
          "output_type": "display_data",
          "data": {
            "text/plain": [
              "<Figure size 640x480 with 1 Axes>"
            ],
            "image/png": "[encoded data removed]"
          },
          "metadata": {}
        }
      ],
      "source": [
        "import matplotlib.pyplot as plt\n",
        "import numpy as np\n",
        "x = [12, 4, 6, 14, 16, 17,15,30]\n",
        "y = [12, 8, 9, 14, 35, 35,15,35]\n",
        "#plt.scatter(x, y)\n",
        "#plt.show()\n",
        "data = np.array(list(zip(x, y)))\n",
        "k = 3\n",
        "# Initialize centroids\n",
        "centroids = data[:k]\n",
        "# Assign data points to clusters\n",
        "clusters = [[] for _ in range(k)]\n",
        "for point in data:\n",
        "    distances = [np.linalg.norm(point - centroid) for centroid in centroids]\n",
        "    min_distance = min(distances)\n",
        "    min_index = distances.index(min_distance)\n",
        "    clusters[min_index].append(point)\n",
        "# Update centroids\n",
        "new_centroids = [np.median(cluster, axis=0) for cluster in clusters]\n",
        "# Repeat until convergence\n",
        "iteration = 1\n",
        "while not np.array_equal(centroids, new_centroids):\n",
        "    print(f\"Iteration {iteration}\")\n",
        "    for i in range(k):\n",
        "        print(f\"Cluster {i+1}:\")\n",
        "        print(clusters[i])\n",
        "        print(\"Centroid:\", centroids[i])\n",
        "        print()\n",
        "    centroids = new_centroids\n",
        "    clusters = [[] for _ in range(k)]\n",
        "    for point in data:\n",
        "        distances = [np.linalg.norm(point - centroid) for centroid in centroids]\n",
        "        min_distance = min(distances)\n",
        "        min_index = distances.index(min_distance)\n",
        "        clusters[min_index].append(point)\n",
        "    new_centroids = [np.median(cluster, axis=0) for cluster in clusters]\n",
        "    iteration += 1\n",
        "# Print final clusters and centroids\n",
        "print(\"Final Result\")\n",
        "for i in range(k):\n",
        "    print(f\"Cluster {i+1}:\")\n",
        "    print(clusters[i])\n",
        "    print(\"Centroid:\", centroids[i])\n",
        "    print()\n",
        "# Plot the clusters\n",
        "colors = ['red', 'blue', 'green', 'orange', 'purple', 'yellow', 'pink']\n",
        "for i in range(k):\n",
        "    plt.scatter([point[0] for point in clusters[i]], [point[1] for point in clusters[i]], color=colors[i])\n",
        "plt.show()\n"
      ]
    }
  ]
}
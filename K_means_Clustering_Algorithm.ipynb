{
  "nbformat": 4,
  "nbformat_minor": 0,
  "metadata": {
    "colab": {
      "provenance": [],
      "mount_file_id": "1nbtYsbdzjguJOYkiXApiFPDPr2Y755-N",
      "authorship_tag": "ABX9TyMdP/DWEBj57PQaqC2mqEvy",
      "include_colab_link": true
    },
    "kernelspec": {
      "name": "python3",
      "display_name": "Python 3"
    },
    "language_info": {
      "name": "python"
    }
  },
  "cells": [
    {
      "cell_type": "markdown",
      "metadata": {
        "id": "view-in-github",
        "colab_type": "text"
      },
      "source": [
        "<a href=\"https://colab.research.google.com/github/elavens/PyMe/blob/main/K_means_Clustering_Algorithm.ipynb\" target=\"_parent\"><img src=\"https://colab.research.google.com/assets/colab-badge.svg\" alt=\"Open In Colab\"/></a>"
      ]
    },
    {
      "cell_type": "code",
      "execution_count": 5,
      "metadata": {
        "id": "q5xgAqGKXFhj"
      },
      "outputs": [],
      "source": [
        "import numpy as np\n",
        "import pandas as pd\n",
        "import matplotlib.pyplot as plt\n",
        "from scipy.cluster.hierarchy import dendrogram, linkage"
      ]
    },
    {
      "cell_type": "code",
      "source": [
        "data = pd.read_excel('/content/drive/MyDrive/read.xlsx')\n",
        "print(data)"
      ],
      "metadata": {
        "colab": {
          "base_uri": "https://localhost:8080/"
        },
        "id": "luSOHqG9Xpod",
        "outputId": "68c45b00-6fb3-4e47-ad04-1f45f1feaa9e"
      },
      "execution_count": 6,
      "outputs": [
        {
          "output_type": "stream",
          "name": "stdout",
          "text": [
            "    X   Y\n",
            "0   3   7\n",
            "1   2  10\n",
            "2   2  10\n",
            "3  15   7\n",
            "4   2  10\n",
            "5   3   7\n"
          ]
        }
      ]
    },
    {
      "cell_type": "code",
      "source": [
        "x_values = data['X'].tolist()\n",
        "y_values = data['Y'].tolist()\n",
        "\n",
        "\n",
        "X = [[x, y] for x, y in zip(x_values, y_values)]\n",
        "\n",
        "print('X=' ,X)"
      ],
      "metadata": {
        "colab": {
          "base_uri": "https://localhost:8080/"
        },
        "id": "cw87JVFEX9Kw",
        "outputId": "0d4da140-6899-4142-97c0-11a84fa9083e"
      },
      "execution_count": 7,
      "outputs": [
        {
          "output_type": "stream",
          "name": "stdout",
          "text": [
            "X= [[3, 7], [2, 10], [2, 10], [15, 7], [2, 10], [3, 7]]\n"
          ]
        }
      ]
    },
    {
      "cell_type": "code",
      "source": [
        "#plotting the datapoint before clustering\n",
        "\n",
        "x = data['X']\n",
        "y = data['Y']\n",
        "plt.scatter(x, y)\n",
        "plt.grid(True)\n",
        "plt.xlim(min(x) - 10, max(x) + 10)\n",
        "plt.ylim(min(y) - 10, max(y) + 10)\n",
        "plt.axhline(0, color='black', linewidth=0.5)\n",
        "plt.axvline(0, color='black', linewidth=0.5)\n",
        "\n",
        "# Display grid lines at every unit\n",
        "# plt.xticks(range(int(min(x)) - 10, int(max(x)) + 11))\n",
        "# plt.yticks(range(int(min(y)) - 10, int(max(y)) + 11))"
      ],
      "metadata": {
        "colab": {
          "base_uri": "https://localhost:8080/",
          "height": 452
        },
        "id": "8_sH9DaoY8I6",
        "outputId": "f2ba09e8-4163-499c-c5f7-09e5a8dbcac1"
      },
      "execution_count": 9,
      "outputs": [
        {
          "output_type": "execute_result",
          "data": {
            "text/plain": [
              "<matplotlib.lines.Line2D at 0x7f5cc9ff1690>"
            ]
          },
          "metadata": {},
          "execution_count": 9
        },
        {
          "output_type": "display_data",
          "data": {
            "text/plain": [
              "<Figure size 640x480 with 1 Axes>"
            ],
            "image/png": "[encoded data removed]"
          },
          "metadata": {}
        }
      ]
    },
    {
      "cell_type": "code",
      "source": [
        "# k-means clustering er main kajgulo ei module a.. implementation of k means clustring from scratch\n",
        "\n",
        "def distance(point1, point2):\n",
        "    return sum([(x - y) ** 2 for x, y in zip(point1, point2)])\n",
        "\n",
        "def assign_labels(X, centroids):\n",
        "    labels = []\n",
        "    for point in X:\n",
        "        distances = [distance(point, centroid) for centroid in centroids]\n",
        "        cluster_label = distances.index(min(distances))\n",
        "        labels.append(cluster_label)\n",
        "    return labels\n",
        "\n",
        "def update_centroids(X, labels, k):\n",
        "    centroids = []\n",
        "    for i in range(k):\n",
        "        cluster_points = [X[j] for j in range(len(X)) if labels[j] == i]\n",
        "        centroid = [sum(coord) / len(cluster_points) for coord in zip(*cluster_points)]\n",
        "        centroids.append(centroid)\n",
        "    return centroids\n",
        "\n",
        "def kmeans(X, k, max_iterations=100):\n",
        "    # Randomly initialize centroids\n",
        "    centroids = X[:k]\n",
        "\n",
        "    for _ in range(max_iterations):\n",
        "        # Assign each data point to the nearest centroid\n",
        "        labels = assign_labels(X, centroids)\n",
        "\n",
        "        # Update centroids based on the mean of the assigned data points\n",
        "        new_centroids = update_centroids(X, labels, k)\n",
        "\n",
        "        # If centroids have not changed, convergence reached\n",
        "        if centroids == new_centroids:\n",
        "            break\n",
        "\n",
        "\n",
        "\n",
        "        centroids = new_centroids\n",
        "\n",
        "    return labels, centroids\n",
        "\n",
        "\n",
        "k = int(input(\"Enter the number of cluster(k): \"))\n",
        "\n",
        "labels, centroids = kmeans(X, k)\n",
        "labels = [label + 1 for label in labels]\n",
        "\n",
        "\n",
        "# Group the data points by their cluster label\n",
        "clusters = [[] for _ in range(k)]\n",
        "for i, point in enumerate(X):\n",
        "    cluster_label = labels[i]\n",
        "    clusters[cluster_label - 1].append(point)\n",
        "\n",
        "# Print the clusters with their data points\n",
        "for i, cluster in enumerate(clusters):\n",
        "    print(\"Cluster\", i + 1, \":\", cluster)\n",
        "\n",
        "\n",
        "\n",
        "print(\"Final centroids:\", centroids)"
      ],
      "metadata": {
        "colab": {
          "base_uri": "https://localhost:8080/"
        },
        "id": "RVlgPgtzZGIW",
        "outputId": "3c3a1aab-ec42-4fa9-9340-7b79465df1f5"
      },
      "execution_count": 11,
      "outputs": [
        {
          "output_type": "stream",
          "name": "stdout",
          "text": [
            "Enter the number of cluster(k): 2\n",
            "Cluster 1 : [[15, 7]]\n",
            "Cluster 2 : [[3, 7], [2, 10], [2, 10], [2, 10], [3, 7]]\n",
            "Final centroids: [[15.0, 7.0], [2.4, 8.8]]\n"
          ]
        }
      ]
    },
    {
      "cell_type": "code",
      "source": [
        "#graph after clustering\n",
        "\n",
        "colors = ['r', 'g', 'b', 'c', 'm', 'y']\n",
        "for i, point in enumerate(X):\n",
        "    plt.scatter(point[0], point[1], c=colors[labels[i]])\n",
        "\n",
        "# Plotting the final centroids\n",
        "for centroid in centroids:\n",
        "    plt.scatter(centroid[0], centroid[1], c='black', marker='x')\n",
        "\n",
        "plt.grid(True)\n",
        "\n",
        "plt.xlim(min(x) - 10, max(x) + 10)\n",
        "plt.ylim(min(y) - 10, max(y) + 10)\n",
        "plt.axhline(0, color='black', linewidth=0.5)\n",
        "plt.axvline(0, color='black', linewidth=0.5)\n",
        "\n",
        "\n",
        "plt.xlabel('X')\n",
        "plt.ylabel('Y')\n",
        "plt.title('K-Means Clustering')\n",
        "plt.show()"
      ],
      "metadata": {
        "colab": {
          "base_uri": "https://localhost:8080/",
          "height": 472
        },
        "id": "crw0jBg7ach-",
        "outputId": "6eb6b9b8-bb9b-49c5-dec1-236e675ae9b8"
      },
      "execution_count": 12,
      "outputs": [
        {
          "output_type": "display_data",
          "data": {
            "text/plain": [
              "<Figure size 640x480 with 1 Axes>"
            ],
            "image/png": "[encoded data removed]"
          },
          "metadata": {}
        }
      ]
    },
    {
      "cell_type": "code",
      "source": [
        "X = np.array(X)\n",
        "print(X)\n",
        "\n",
        "# Perform k-means clustering\n",
        "Z = linkage(X, method='ward')\n",
        "\n",
        "# Plot the dendrogram\n",
        "plt.figure(figsize=(10, 5))\n",
        "plt.title('K-Means Clustering Dendrogram')\n",
        "plt.xlabel('Data Points')\n",
        "plt.ylabel('Distance')\n",
        "dendrogram(Z, labels=np.arange(1, X.shape[0]+1))\n",
        "plt.show()"
      ],
      "metadata": {
        "colab": {
          "base_uri": "https://localhost:8080/",
          "height": 595
        },
        "id": "84q6TaKEanXc",
        "outputId": "cd75793a-b226-4be2-9bab-cce872eb65b9"
      },
      "execution_count": 14,
      "outputs": [
        {
          "output_type": "stream",
          "name": "stdout",
          "text": [
            "[[ 3  7]\n",
            " [ 2 10]\n",
            " [ 2 10]\n",
            " [15  7]\n",
            " [ 2 10]\n",
            " [ 3  7]]\n"
          ]
        },
        {
          "output_type": "display_data",
          "data": {
            "text/plain": [
              "<Figure size 1000x500 with 1 Axes>"
            ],
            "image/png": "[encoded data removed]"
          },
          "metadata": {}
        }
      ]
    }
  ]
}
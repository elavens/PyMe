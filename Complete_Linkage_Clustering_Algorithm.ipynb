{
  "nbformat": 4,
  "nbformat_minor": 0,
  "metadata": {
    "colab": {
      "provenance": [],
      "authorship_tag": "ABX9TyMJW3dYUWoaGrxCfvlZ1Qxu",
      "include_colab_link": true
    },
    "kernelspec": {
      "name": "python3",
      "display_name": "Python 3"
    },
    "language_info": {
      "name": "python"
    }
  },
  "cells": [
    {
      "cell_type": "markdown",
      "metadata": {
        "id": "view-in-github",
        "colab_type": "text"
      },
      "source": [
        "<a href=\"https://colab.research.google.com/github/elavens/PyMe/blob/main/Complete_Linkage_Clustering_Algorithm.ipynb\" target=\"_parent\"><img src=\"https://colab.research.google.com/assets/colab-badge.svg\" alt=\"Open In Colab\"/></a>"
      ]
    },
    {
      "cell_type": "code",
      "execution_count": 2,
      "metadata": {
        "colab": {
          "base_uri": "https://localhost:8080/"
        },
        "id": "yHRx8Ja0On0_",
        "outputId": "be03806a-4b22-433b-a617-223d96abf4c3"
      },
      "outputs": [
        {
          "output_type": "stream",
          "name": "stdout",
          "text": [
            "Initial Clusters:\n",
            "[[1], [2], [3], [4], [5], [6], [7]]\n",
            "\n",
            "Merging Clusters:\n",
            "[[1, 7], [2], [3], [4], [5], [6]]\n",
            "Max Distance: 45.221676218380054\n",
            "\n",
            "Merging Clusters:\n",
            "[[1, 7, 2], [3], [4], [5], [6]]\n",
            "Max Distance: 43.41658669218482\n",
            "\n",
            "Merging Clusters:\n",
            "[[1, 7, 2, 3], [4], [5], [6]]\n",
            "Max Distance: 37.48332962798263\n",
            "\n",
            "Merging Clusters:\n",
            "[[1, 7, 2, 3, 4], [5], [6]]\n",
            "Max Distance: 34.539832078341085\n",
            "\n",
            "Merging Clusters:\n",
            "[[1, 7, 2, 3, 4, 5], [6]]\n",
            "Max Distance: 29.546573405388315\n",
            "\n",
            "Merging Clusters:\n",
            "[[1, 7, 2, 3, 4, 5, 6]]\n",
            "Max Distance: 24.73863375370596\n",
            "\n",
            "Final Clusters:\n",
            "[[1, 7, 2, 3, 4, 5, 6]]\n"
          ]
        }
      ],
      "source": [
        "import math\n",
        "\n",
        "def euclidean_distance(x1, y1, x2, y2):\n",
        "    return math.sqrt((x2 - x1)**2 + (y2 - y1)**2)\n",
        "\n",
        "def complete_linkage(X, Y):\n",
        "    n = len(X)\n",
        "    clusters = [[i + 1] for i in range(n)]\n",
        "\n",
        "    print(\"Initial Clusters:\")\n",
        "    print(clusters)\n",
        "\n",
        "    while len(clusters) > 1:\n",
        "        max_distance = float('-inf')\n",
        "        merge_indices = None\n",
        "\n",
        "        for i in range(len(clusters)):\n",
        "            for j in range(i + 1, len(clusters)):\n",
        "                cluster_i = clusters[i]\n",
        "                cluster_j = clusters[j]\n",
        "\n",
        "                for k in cluster_i:\n",
        "                    for l in cluster_j:\n",
        "                        distance = euclidean_distance(X[k - 1], Y[k - 1], X[l - 1], Y[l - 1])\n",
        "                        if distance > max_distance:\n",
        "                            max_distance = distance\n",
        "                            merge_indices = (i, j)\n",
        "\n",
        "        i, j = merge_indices\n",
        "        clusters[i] += clusters[j]\n",
        "        del clusters[j]\n",
        "\n",
        "        print(\"\\nMerging Clusters:\")\n",
        "        print(clusters)\n",
        "        print(\"Max Distance:\", max_distance)\n",
        "\n",
        "    return clusters\n",
        "\n",
        "X = [10,15,9,23,24,30,36]\n",
        "Y = [7,6,18,12,17,20,44]\n",
        "\n",
        "result = complete_linkage(X, Y)\n",
        "print(\"\\nFinal Clusters:\")\n",
        "print(result)\n"
      ]
    }
  ]
}
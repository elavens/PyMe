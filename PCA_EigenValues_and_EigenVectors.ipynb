{
  "nbformat": 4,
  "nbformat_minor": 0,
  "metadata": {
    "colab": {
      "provenance": [],
      "mount_file_id": "1nbtYsbdzjguJOYkiXApiFPDPr2Y755-N",
      "authorship_tag": "ABX9TyOrlu/wvLmRwzbLCyjOk3/k",
      "include_colab_link": true
    },
    "kernelspec": {
      "name": "python3",
      "display_name": "Python 3"
    },
    "language_info": {
      "name": "python"
    }
  },
  "cells": [
    {
      "cell_type": "markdown",
      "metadata": {
        "id": "view-in-github",
        "colab_type": "text"
      },
      "source": [
        "<a href=\"https://colab.research.google.com/github/elavens/PyMe/blob/main/PCA_EigenValues_and_EigenVectors.ipynb\" target=\"_parent\"><img src=\"https://colab.research.google.com/assets/colab-badge.svg\" alt=\"Open In Colab\"/></a>"
      ]
    },
    {
      "cell_type": "code",
      "execution_count": 37,
      "metadata": {
        "id": "q5xgAqGKXFhj"
      },
      "outputs": [],
      "source": [
        "import numpy as np\n",
        "# Define a 3x3 matrix\n",
        "matrix = np.array([[2, 1, 3],\n",
        "                   [4, 5, 6],\n",
        "                   [9, 8, 7]])"
      ]
    },
    {
      "cell_type": "code",
      "source": [
        "# Find the eigenvalues and eigenvectors\n",
        "eigenvalues, eigenvectors = np.linalg.eig(matrix)\n",
        "# Print the eigenvalues\n",
        "print(\"Eigenvalues:\")\n",
        "for eigenvalue in eigenvalues:\n",
        "    print(eigenvalue)\n",
        "\n",
        "# Print the eigenvectors\n",
        "print(\"\\nEigenvectors:\")\n",
        "for i in range(len(eigenvectors)):\n",
        "    print(\"Eigenvector\", i+1)\n",
        "    print(eigenvectors[:, i])\n",
        "    print()"
      ],
      "metadata": {
        "colab": {
          "base_uri": "https://localhost:8080/"
        },
        "id": "SgnZ_XDEieZj",
        "outputId": "5d8ba289-119f-4e7c-f9ea-c6d08505611c"
      },
      "execution_count": 38,
      "outputs": [
        {
          "output_type": "stream",
          "name": "stdout",
          "text": [
            "Eigenvalues:\n",
            "15.150201023986735\n",
            "1.1292949431462855\n",
            "-2.2794959671330135\n",
            "\n",
            "Eigenvectors:\n",
            "Eigenvector 1\n",
            "[-0.22452506 -0.55992487 -0.79754162]\n",
            "\n",
            "Eigenvector 2\n",
            "[-0.6362489   0.76817312 -0.07139599]\n",
            "\n",
            "Eigenvector 3\n",
            "[-0.46202087 -0.3989679   0.79206145]\n",
            "\n"
          ]
        }
      ]
    }
  ]
}
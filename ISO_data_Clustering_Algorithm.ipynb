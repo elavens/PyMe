{
  "nbformat": 4,
  "nbformat_minor": 0,
  "metadata": {
    "colab": {
      "provenance": [],
      "mount_file_id": "1nbtYsbdzjguJOYkiXApiFPDPr2Y755-N",
      "authorship_tag": "ABX9TyNO2nlszSf4Ry+zrp1hZfDT",
      "include_colab_link": true
    },
    "kernelspec": {
      "name": "python3",
      "display_name": "Python 3"
    },
    "language_info": {
      "name": "python"
    }
  },
  "cells": [
    {
      "cell_type": "markdown",
      "metadata": {
        "id": "view-in-github",
        "colab_type": "text"
      },
      "source": [
        "<a href=\"https://colab.research.google.com/github/elavens/PyMe/blob/main/ISO_data_Clustering_Algorithm.ipynb\" target=\"_parent\"><img src=\"https://colab.research.google.com/assets/colab-badge.svg\" alt=\"Open In Colab\"/></a>"
      ]
    },
    {
      "cell_type": "code",
      "execution_count": 33,
      "metadata": {
        "colab": {
          "base_uri": "https://localhost:8080/",
          "height": 638
        },
        "id": "q5xgAqGKXFhj",
        "outputId": "e4b11176-71b8-425c-923c-cd7b658475e5"
      },
      "outputs": [
        {
          "output_type": "stream",
          "name": "stdout",
          "text": [
            "Cluster 1:\n",
            "[array([10, 15])]\n",
            "Centroid: [10. 15.]\n",
            "\n",
            "Cluster 2:\n",
            "[array([12, 15]), array([20, 40])]\n",
            "Centroid: [16.  27.5]\n",
            "\n",
            "Cluster 3:\n",
            "[array([16, 19]), array([17, 45]), array([15, 14])]\n",
            "Centroid: [16. 19.]\n",
            "\n"
          ]
        },
        {
          "output_type": "display_data",
          "data": {
            "text/plain": [
              "<Figure size 640x480 with 1 Axes>"
            ],
            "image/png": "[encoded data removed]"
          },
          "metadata": {}
        }
      ],
      "source": [
        "import numpy as np\n",
        "import matplotlib.pyplot as plt\n",
        "def initialize_centroids(data, k):\n",
        "    np.random.shuffle(data)\n",
        "    return data[:k]\n",
        "def assign_points(data, centroids):\n",
        "    clusters = [[] for _ in range(len(centroids))]\n",
        "    for point in data:\n",
        "        distances = [np.linalg.norm(point - centroid) for centroid in centroids]\n",
        "        min_distance = min(distances)\n",
        "        min_index = distances.index(min_distance)\n",
        "        clusters[min_index].append(point)\n",
        "    return clusters\n",
        "def update_centroids(clusters):\n",
        "    new_centroids = []\n",
        "    for cluster in clusters:\n",
        "        centroid = np.median(cluster, axis=0)\n",
        "        new_centroids.append(centroid)\n",
        "    return new_centroids\n",
        "def split_clusters(clusters, centroids, max_cluster_size):\n",
        "    new_clusters = []\n",
        "    new_centroids = []\n",
        "    for i, cluster in enumerate(clusters):\n",
        "        if len(cluster) > max_cluster_size:\n",
        "            cluster1 = cluster[:len(cluster)//2]\n",
        "            cluster2 = cluster[len(cluster)//2:]\n",
        "            centroid1 = np.median(cluster1, axis=0)\n",
        "            centroid2 = np.median(cluster2, axis=0)\n",
        "            new_clusters.extend([cluster1, cluster2])\n",
        "            new_centroids.extend([centroid1, centroid2])\n",
        "        else:\n",
        "            new_clusters.append(cluster)\n",
        "            new_centroids.append(centroids[i])\n",
        "    return new_clusters, new_centroids\n",
        "\n",
        "def merge_clusters(clusters, centroids, min_cluster_size):\n",
        "    new_clusters = []\n",
        "    new_centroids = []\n",
        "    for i, cluster in enumerate(clusters):\n",
        "        if len(cluster) < min_cluster_size:\n",
        "            closest_cluster = min(centroids, key=lambda c: np.linalg.norm(c - centroids[i]))\n",
        "            closest_cluster_index = centroids.index(closest_cluster)\n",
        "            merged_cluster = cluster + clusters[closest_cluster_index]\n",
        "            centroid = np.median(merged_cluster, axis=0)\n",
        "            new_clusters.append(merged_cluster)\n",
        "            new_centroids.append(centroid)\n",
        "        else:\n",
        "            new_clusters.append(cluster)\n",
        "            new_centroids.append(centroids[i])\n",
        "    return new_clusters, new_centroids\n",
        "\n",
        "def isodata_clustering(data, k, max_iterations, initial_cluster_size, max_cluster_size, min_cluster_size, convergence_threshold):\n",
        "    centroids = initialize_centroids(data, k)\n",
        "    clusters = assign_points(data, centroids)\n",
        "    iteration = 0\n",
        "    while iteration < max_iterations:\n",
        "        iteration += 1\n",
        "        new_centroids = update_centroids(clusters)\n",
        "        clusters, centroids = split_clusters(clusters, new_centroids, max_cluster_size)\n",
        "        clusters, centroids = merge_clusters(clusters, centroids, min_cluster_size)\n",
        "        if np.max([np.linalg.norm(centroids[i] - new_centroids[i]) for i in range(k)]) < convergence_threshold:\n",
        "            break\n",
        "    return clusters, centroids\n",
        "# Example usage\n",
        "x = [10, 15, 16, 12, 17, 20]\n",
        "y = [15, 14, 19, 15, 45, 40]\n",
        "data = np.array(list(zip(x, y)))\n",
        "k = 2\n",
        "max_iterations = 10\n",
        "initial_cluster_size = 5\n",
        "max_cluster_size = 3\n",
        "min_cluster_size = 1\n",
        "convergence_threshold = 0.001\n",
        "clusters, centroids = isodata_clustering(data, k, max_iterations, initial_cluster_size, max_cluster_size, min_cluster_size, convergence_threshold)\n",
        "# Print clusters and centroids\n",
        "for i, cluster in enumerate(clusters):\n",
        "    print(f\"Cluster {i+1}:\")\n",
        "    print(cluster)\n",
        "    print(\"Centroid:\", centroids[i])\n",
        "    print()\n",
        "# Plot the clusters\n",
        "colors = ['red', 'blue', 'green', 'orange', 'purple', 'yellow', 'pink']\n",
        "for i, cluster in enumerate(clusters):\n",
        "    plt.scatter([point[0] for point in cluster], [point[1] for point in cluster], color=colors[i])\n",
        "plt.show()\n"
      ]
    }
  ]
}
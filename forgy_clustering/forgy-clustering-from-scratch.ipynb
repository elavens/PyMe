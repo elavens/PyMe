{
 "cells": [
  {
   "cell_type": "code",
   "execution_count": 165,
   "id": "14c53336",
   "metadata": {},
   "outputs": [],
   "source": [
    "#importing librarires\n",
    "\n",
    "import numpy as np\n",
    "import pandas as pd\n",
    "import matplotlib.pyplot as plt\n",
    "from scipy.cluster.hierarchy import dendrogram, linkage"
   ]
  },
  {
   "cell_type": "code",
   "execution_count": 166,
   "id": "fb86bb89",
   "metadata": {},
   "outputs": [
    {
     "name": "stdout",
     "output_type": "stream",
     "text": [
      "    x   y\n",
      "0   4   4\n",
      "1   8   4\n",
      "2  15   8\n",
      "3  24   4\n",
      "4  24  12\n"
     ]
    }
   ],
   "source": [
    "#data read\n",
    "\n",
    "data = pd.read_excel('forgy.xlsx')\n",
    "print(data)"
   ]
  },
  {
   "cell_type": "code",
   "execution_count": 167,
   "id": "03752c43",
   "metadata": {},
   "outputs": [
    {
     "name": "stdout",
     "output_type": "stream",
     "text": [
      "X= [[4, 4], [8, 4], [15, 8], [24, 4], [24, 12]]\n"
     ]
    }
   ],
   "source": [
    "#datapoint gulo ekta list a convert korsi ei part tuku te\n",
    "\n",
    "x_values = data['x'].tolist()\n",
    "y_values = data['y'].tolist()\n",
    "\n",
    "\n",
    "X = [[x, y] for x, y in zip(x_values, y_values)]\n",
    "\n",
    "print('X=' ,X)"
   ]
  },
  {
   "cell_type": "code",
   "execution_count": 168,
   "id": "5d3d2117",
   "metadata": {},
   "outputs": [
    {
     "data": {
      "text/plain": [
       "<matplotlib.lines.Line2D at 0x1d944509120>"
      ]
     },
     "execution_count": 168,
     "metadata": {},
     "output_type": "execute_result"
    },
    {
     "data": {
      "image/png": "[encoded data removed]",
      "text/plain": [
       "<Figure size 640x480 with 1 Axes>"
      ]
     },
     "metadata": {},
     "output_type": "display_data"
    }
   ],
   "source": [
    "#plotting the datapoint before clustering\n",
    "\n",
    "x = data['x']\n",
    "y = data['y']\n",
    "plt.scatter(x, y)\n",
    "plt.grid(True)\n",
    "plt.xlim(min(x) - 10, max(x) + 10)\n",
    "plt.ylim(min(y) - 10, max(y) + 10)\n",
    "plt.axhline(0, color='black', linewidth=0.5)\n",
    "plt.axvline(0, color='black', linewidth=0.5)\n",
    "\n",
    "# Display grid lines at every unit\n",
    "# plt.xticks(range(int(min(x)) - 10, int(max(x)) + 11))\n",
    "# plt.yticks(range(int(min(y)) - 10, int(max(y)) + 11))"
   ]
  },
  {
   "cell_type": "code",
   "execution_count": 169,
   "id": "2eda6d65",
   "metadata": {},
   "outputs": [
    {
     "name": "stdout",
     "output_type": "stream",
     "text": [
      "Enter the number of cluster(k): 2\n",
      "Iteration 1\n",
      "Current centroids:\n",
      "[4 4]\n",
      "[8 4]\n",
      "\n",
      "Iteration 2\n",
      "Current centroids:\n",
      "[4. 4.]\n",
      "[17.75  7.  ]\n",
      "\n",
      "Iteration 3\n",
      "Current centroids:\n",
      "[6. 4.]\n",
      "[21.  8.]\n",
      "\n",
      "Final centroids:\n",
      "[6. 4.]\n",
      "[21.  8.]\n",
      "Cluster 1:\n",
      "[4 4]\n",
      "[8 4]\n",
      "\n",
      "Cluster 2:\n",
      "[15  8]\n",
      "[24  4]\n",
      "[24 12]\n",
      "\n"
     ]
    }
   ],
   "source": [
    "# forgy clustering er main kajgulo ei module a.. implementation of forgy clustring from scratch\n",
    "\n",
    "def euclidean_distance(point1, point2):\n",
    "    return np.sqrt(np.sum((point1 - point2) ** 2))\n",
    "\n",
    "def k_means_clustering(data, k):\n",
    "    # Step 1: Initialize centroids\n",
    "    centroids = data[:k]\n",
    "\n",
    "    iteration = 0\n",
    "    while True:\n",
    "        iteration += 1\n",
    "        print(f\"Iteration {iteration}\")\n",
    "        print(\"Current centroids:\")\n",
    "        for centroid in centroids:\n",
    "            print(centroid)\n",
    "        print()\n",
    "\n",
    "        # Step 2: Assign data points to clusters\n",
    "        clusters = [[] for _ in range(k)]\n",
    "        for point in data:\n",
    "            distances = [euclidean_distance(point, centroid) for centroid in centroids]\n",
    "            cluster_index = np.argmin(distances)\n",
    "            clusters[cluster_index].append(point)\n",
    "\n",
    "        # Step 3: Calculate new centroids\n",
    "        new_centroids = []\n",
    "        for cluster in clusters:\n",
    "            new_centroid = np.mean(cluster, axis=0)\n",
    "            new_centroids.append(new_centroid)\n",
    "\n",
    "        # Step 4: Check if centroids have changed\n",
    "        if np.allclose(centroids, new_centroids):\n",
    "            break\n",
    "\n",
    "        centroids = new_centroids\n",
    "\n",
    "    print(\"Final centroids:\")\n",
    "    for centroid in centroids:\n",
    "        print(centroid)\n",
    "\n",
    "    return clusters\n",
    "\n",
    "\n",
    "data = np.array(X)\n",
    "k = int(input(\"Enter the number of cluster(k): \"))\n",
    "\n",
    "clusters = k_means_clustering(data, k)\n",
    "for i, cluster in enumerate(clusters):\n",
    "    print(f\"Cluster {i+1}:\")\n",
    "    for point in cluster:\n",
    "        print(point)\n",
    "    print()\n"
   ]
  },
  {
   "cell_type": "code",
   "execution_count": 170,
   "id": "599ed708",
   "metadata": {},
   "outputs": [
    {
     "data": {
      "image/png": "[encoded data removed]",
      "text/plain": [
       "<Figure size 640x480 with 1 Axes>"
      ]
     },
     "metadata": {},
     "output_type": "display_data"
    }
   ],
   "source": [
    "#plt.figure(figsize=(8, 6))\n",
    "colors = ['red', 'blue', 'green', 'orange', 'purple', 'cyan']  \n",
    "for i, cluster in enumerate(clusters):\n",
    "    cluster_points = np.array(cluster)\n",
    "    plt.scatter(cluster_points[:, 0], cluster_points[:, 1], color=colors[i], label=f\"Cluster {i+1}\")\n",
    "plt.scatter(centroids[:, 0], centroids[:, 1], color='black', marker='x', s=100, label='Centroids')\n",
    "#plt.legend()\n",
    "plt.grid(True)\n",
    "plt.xlim(min(x) - 10, max(x) + 10)\n",
    "plt.ylim(min(y) - 10, max(y) + 10)\n",
    "plt.axhline(0, color='black', linewidth=0.5)\n",
    "plt.axvline(0, color='black', linewidth=0.5)\n",
    "plt.xlabel('X')\n",
    "plt.ylabel('Y')\n",
    "plt.title('Forgy Clustering')\n",
    "plt.show()"
   ]
  },
  {
   "cell_type": "code",
   "execution_count": 171,
   "id": "2947bf3e",
   "metadata": {},
   "outputs": [
    {
     "name": "stdout",
     "output_type": "stream",
     "text": [
      "[[ 4  4]\n",
      " [ 8  4]\n",
      " [15  8]\n",
      " [24  4]\n",
      " [24 12]]\n"
     ]
    },
    {
     "data": {
      "image/png": "[encoded data removed]",
      "text/plain": [
       "<Figure size 1000x500 with 1 Axes>"
      ]
     },
     "metadata": {},
     "output_type": "display_data"
    }
   ],
   "source": [
    "#dendrogram er jonne. K means er jonne dendrogram painai..So wards method er dendrogram. Wards method hierarchical clustering\n",
    "\n",
    "X = np.array(X)\n",
    "print(X)\n",
    "\n",
    "# Perform k-means clustering\n",
    "Z = linkage(X, method='ward')\n",
    "\n",
    "# Plot the dendrogram\n",
    "plt.figure(figsize=(10, 5))\n",
    "plt.title('Forgy Clustering Dendrogram')\n",
    "plt.xlabel('Data Points')\n",
    "plt.ylabel('Distance')\n",
    "dendrogram(Z, labels=np.arange(1, X.shape[0]+1))\n",
    "plt.show()"
   ]
  }
 ],
 "metadata": {
  "kernelspec": {
   "display_name": "Python 3 (ipykernel)",
   "language": "python",
   "name": "python3"
  },
  "language_info": {
   "codemirror_mode": {
    "name": "ipython",
    "version": 3
   },
   "file_extension": ".py",
   "mimetype": "text/x-python",
   "name": "python",
   "nbconvert_exporter": "python",
   "pygments_lexer": "ipython3",
   "version": "3.10.9"
  }
 },
 "nbformat": 4,
 "nbformat_minor": 5
}

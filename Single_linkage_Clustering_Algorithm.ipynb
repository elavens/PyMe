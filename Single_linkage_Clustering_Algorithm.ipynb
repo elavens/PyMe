{
  "nbformat": 4,
  "nbformat_minor": 0,
  "metadata": {
    "colab": {
      "provenance": [],
      "authorship_tag": "ABX9TyP26Vqi7ACkTd3/LoEhx2fr",
      "include_colab_link": true
    },
    "kernelspec": {
      "name": "python3",
      "display_name": "Python 3"
    },
    "language_info": {
      "name": "python"
    }
  },
  "cells": [
    {
      "cell_type": "markdown",
      "metadata": {
        "id": "view-in-github",
        "colab_type": "text"
      },
      "source": [
        "<a href=\"https://colab.research.google.com/github/elavens/PyMe/blob/main/Single_linkage_Clustering_Algorithm.ipynb\" target=\"_parent\"><img src=\"https://colab.research.google.com/assets/colab-badge.svg\" alt=\"Open In Colab\"/></a>"
      ]
    },
    {
      "cell_type": "code",
      "execution_count": 2,
      "metadata": {
        "colab": {
          "base_uri": "https://localhost:8080/"
        },
        "id": "IGL16QpiNKoq",
        "outputId": "cff1dffe-2aae-4996-d07d-9273b755d505"
      },
      "outputs": [
        {
          "output_type": "stream",
          "name": "stdout",
          "text": [
            "Initial Clusters:\n",
            "[[1], [2], [3], [4], [5], [6], [7]]\n",
            "\n",
            "Merging Clusters:\n",
            "[[1, 2], [3], [4], [5], [6], [7]]\n",
            "Min Distance: 2.8284271247461903\n",
            "\n",
            "Merging Clusters:\n",
            "[[1, 2, 3], [4], [5], [6], [7]]\n",
            "Min Distance: 3.4641016151377544\n",
            "\n",
            "Merging Clusters:\n",
            "[[1, 2, 3], [4, 5], [6], [7]]\n",
            "Min Distance: 3.4641016151377544\n",
            "\n",
            "Merging Clusters:\n",
            "[[1, 2, 3, 4, 5], [6], [7]]\n",
            "Min Distance: 4.0\n",
            "\n",
            "Merging Clusters:\n",
            "[[1, 2, 3, 4, 5, 6], [7]]\n",
            "Min Distance: 4.242640687119285\n",
            "\n",
            "Merging Clusters:\n",
            "[[1, 2, 3, 4, 5, 6, 7]]\n",
            "Min Distance: 7.745966692414834\n",
            "\n",
            "Final Clusters:\n",
            "[[1, 2, 3, 4, 5, 6, 7]]\n"
          ]
        }
      ],
      "source": [
        "#pip install scikit-learn pandas\n",
        "import numpy as np\n",
        "import math\n",
        "\n",
        "def euclidean_distance(x1, y1, x2, y2):\n",
        "    return math.sqrt((x2 - x1) * 2 + (y2 - y1) * 2)\n",
        "\n",
        "def single_linkage(X, Y):\n",
        "    n = len(X)\n",
        "    clusters = [[i + 1] for i in range(n)]\n",
        "\n",
        "    print(\"Initial Clusters:\")\n",
        "    print(clusters)\n",
        "\n",
        "    while len(clusters) > 1:\n",
        "        min_distance = float('inf')\n",
        "        merge_indices = None\n",
        "\n",
        "        for i in range(len(clusters)):\n",
        "            for j in range(i + 1, len(clusters)):\n",
        "                cluster_i = clusters[i]\n",
        "                cluster_j = clusters[j]\n",
        "\n",
        "                for k in cluster_i:\n",
        "                    for l in cluster_j:\n",
        "                        distance = euclidean_distance(X[k - 1], Y[k - 1], X[l - 1], Y[l - 1])\n",
        "                        if distance < min_distance:\n",
        "                            min_distance = distance\n",
        "                            merge_indices = (i, j)\n",
        "\n",
        "        i, j = merge_indices\n",
        "        clusters[i] += clusters[j]\n",
        "        del clusters[j]\n",
        "\n",
        "        print(\"\\nMerging Clusters:\")\n",
        "        print(clusters)\n",
        "        print(\"Min Distance:\", min_distance)\n",
        "\n",
        "    return clusters\n",
        "\n",
        "X = [10,15,9,23,24,30,36]\n",
        "Y = [7,6,18,12,17,20,44]\n",
        "\n",
        "result = single_linkage(X, Y)\n",
        "print(\"\\nFinal Clusters:\")\n",
        "print(result)\n"
      ]
    },
    {
      "cell_type": "code",
      "source": [
        "# for dendrogram\n",
        "import matplotlib.pyplot as plt\n",
        "from scipy.cluster.hierarchy import dendrogram, linkage\n",
        "\n",
        "from scipy.spatial.distance import pdist\n",
        "\n",
        "linkage_matrix = linkage(data, method='single', metric='euclidean')\n",
        "\n",
        "dendrogram((linkage_matrix),labels=(data.index))\n",
        "plt.title('Dendrogram for Single Linkage')\n",
        "plt.xlabel('Data Points')\n",
        "plt.ylabel('Distance')\n"
      ],
      "metadata": {
        "colab": {
          "base_uri": "https://localhost:8080/",
          "height": 235
        },
        "id": "WZolJC-GOG9f",
        "outputId": "91e633ef-eb00-410b-b621-5f53bd954245"
      },
      "execution_count": 3,
      "outputs": [
        {
          "output_type": "error",
          "ename": "NameError",
          "evalue": "ignored",
          "traceback": [
            "\u001b[0;31m---------------------------------------------------------------------------\u001b[0m",
            "\u001b[0;31mNameError\u001b[0m                                 Traceback (most recent call last)",
            "\u001b[0;32m<ipython-input-3-35b311ba813f>\u001b[0m in \u001b[0;36m<cell line: 7>\u001b[0;34m()\u001b[0m\n\u001b[1;32m      5\u001b[0m \u001b[0;32mfrom\u001b[0m \u001b[0mscipy\u001b[0m\u001b[0;34m.\u001b[0m\u001b[0mspatial\u001b[0m\u001b[0;34m.\u001b[0m\u001b[0mdistance\u001b[0m \u001b[0;32mimport\u001b[0m \u001b[0mpdist\u001b[0m\u001b[0;34m\u001b[0m\u001b[0;34m\u001b[0m\u001b[0m\n\u001b[1;32m      6\u001b[0m \u001b[0;34m\u001b[0m\u001b[0m\n\u001b[0;32m----> 7\u001b[0;31m \u001b[0mlinkage_matrix\u001b[0m \u001b[0;34m=\u001b[0m \u001b[0mlinkage\u001b[0m\u001b[0;34m(\u001b[0m\u001b[0mdata\u001b[0m\u001b[0;34m,\u001b[0m \u001b[0mmethod\u001b[0m\u001b[0;34m=\u001b[0m\u001b[0;34m'single'\u001b[0m\u001b[0;34m,\u001b[0m \u001b[0mmetric\u001b[0m\u001b[0;34m=\u001b[0m\u001b[0;34m'euclidean'\u001b[0m\u001b[0;34m)\u001b[0m\u001b[0;34m\u001b[0m\u001b[0;34m\u001b[0m\u001b[0m\n\u001b[0m\u001b[1;32m      8\u001b[0m \u001b[0;34m\u001b[0m\u001b[0m\n\u001b[1;32m      9\u001b[0m \u001b[0mdendrogram\u001b[0m\u001b[0;34m(\u001b[0m\u001b[0;34m(\u001b[0m\u001b[0mlinkage_matrix\u001b[0m\u001b[0;34m)\u001b[0m\u001b[0;34m,\u001b[0m\u001b[0mlabels\u001b[0m\u001b[0;34m=\u001b[0m\u001b[0;34m(\u001b[0m\u001b[0mdata\u001b[0m\u001b[0;34m.\u001b[0m\u001b[0mindex\u001b[0m\u001b[0;34m)\u001b[0m\u001b[0;34m)\u001b[0m\u001b[0;34m\u001b[0m\u001b[0;34m\u001b[0m\u001b[0m\n",
            "\u001b[0;31mNameError\u001b[0m: name 'data' is not defined"
          ]
        }
      ]
    }
  ]
}
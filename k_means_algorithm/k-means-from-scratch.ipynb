{
 "cells": [
  {
   "cell_type": "code",
   "execution_count": 128,
   "id": "da956bbc",
   "metadata": {},
   "outputs": [],
   "source": [
    "#importing librarires\n",
    "\n",
    "import numpy as np\n",
    "import pandas as pd\n",
    "import matplotlib.pyplot as plt\n",
    "from scipy.cluster.hierarchy import dendrogram, linkage\n",
    "\n"
   ]
  },
  {
   "cell_type": "code",
   "execution_count": 129,
   "id": "3513ec7c",
   "metadata": {},
   "outputs": [
    {
     "name": "stdout",
     "output_type": "stream",
     "text": [
      "    x   y\n",
      "0   8   4\n",
      "1  24   4\n",
      "2  15   8\n",
      "3   4   4\n",
      "4  24  12\n"
     ]
    }
   ],
   "source": [
    "#data read\n",
    "\n",
    "data = pd.read_excel('kmeans.xlsx')\n",
    "print(data)"
   ]
  },
  {
   "cell_type": "code",
   "execution_count": 130,
   "id": "70c9159d",
   "metadata": {},
   "outputs": [
    {
     "name": "stdout",
     "output_type": "stream",
     "text": [
      "X= [[8, 4], [24, 4], [15, 8], [4, 4], [24, 12]]\n"
     ]
    }
   ],
   "source": [
    "#datapoint gulo ekta list a convert korsi ei part tuku te\n",
    "\n",
    "x_values = data['x'].tolist()\n",
    "y_values = data['y'].tolist()\n",
    "\n",
    "\n",
    "X = [[x, y] for x, y in zip(x_values, y_values)]\n",
    "\n",
    "print('X=' ,X)\n"
   ]
  },
  {
   "cell_type": "code",
   "execution_count": 131,
   "id": "bce605ae",
   "metadata": {},
   "outputs": [
    {
     "data": {
      "text/plain": [
       "<matplotlib.lines.Line2D at 0x18b32461fc0>"
      ]
     },
     "execution_count": 131,
     "metadata": {},
     "output_type": "execute_result"
    },
    {
     "data": {
      "image/png": "[encoded data removed]",
      "text/plain": [
       "<Figure size 640x480 with 1 Axes>"
      ]
     },
     "metadata": {},
     "output_type": "display_data"
    }
   ],
   "source": [
    "#plotting the datapoint before clustering\n",
    "\n",
    "x = data['x']\n",
    "y = data['y']\n",
    "plt.scatter(x, y)\n",
    "plt.grid(True)\n",
    "plt.xlim(min(x) - 10, max(x) + 10)\n",
    "plt.ylim(min(y) - 10, max(y) + 10)\n",
    "plt.axhline(0, color='black', linewidth=0.5)\n",
    "plt.axvline(0, color='black', linewidth=0.5)\n",
    "\n",
    "# Display grid lines at every unit\n",
    "# plt.xticks(range(int(min(x)) - 10, int(max(x)) + 11))\n",
    "# plt.yticks(range(int(min(y)) - 10, int(max(y)) + 11))\n"
   ]
  },
  {
   "cell_type": "code",
   "execution_count": 132,
   "id": "3a45ce83",
   "metadata": {},
   "outputs": [
    {
     "name": "stdout",
     "output_type": "stream",
     "text": [
      "Enter the number of cluster(k): 2\n",
      "Cluster 1 : [[8, 4], [15, 8], [4, 4]]\n",
      "Cluster 2 : [[24, 4], [24, 12]]\n",
      "Final centroids: [[9.0, 5.333333333333333], [24.0, 8.0]]\n"
     ]
    }
   ],
   "source": [
    "# k-means clustering er main kajgulo ei module a.. implementation of k means clustring from scratch\n",
    "\n",
    "def distance(point1, point2):\n",
    "    return sum([(x - y) ** 2 for x, y in zip(point1, point2)])\n",
    "\n",
    "def assign_labels(X, centroids):\n",
    "    labels = []\n",
    "    for point in X:\n",
    "        distances = [distance(point, centroid) for centroid in centroids]\n",
    "        cluster_label = distances.index(min(distances))\n",
    "        labels.append(cluster_label)\n",
    "    return labels\n",
    "\n",
    "def update_centroids(X, labels, k):\n",
    "    centroids = []\n",
    "    for i in range(k):\n",
    "        cluster_points = [X[j] for j in range(len(X)) if labels[j] == i]\n",
    "        centroid = [sum(coord) / len(cluster_points) for coord in zip(*cluster_points)]\n",
    "        centroids.append(centroid)\n",
    "    return centroids\n",
    "\n",
    "def kmeans(X, k, max_iterations=100):\n",
    "    # Randomly initialize centroids\n",
    "    centroids = X[:k]\n",
    "    \n",
    "    for _ in range(max_iterations):\n",
    "        # Assign each data point to the nearest centroid\n",
    "        labels = assign_labels(X, centroids)\n",
    "        \n",
    "        # Update centroids based on the mean of the assigned data points\n",
    "        new_centroids = update_centroids(X, labels, k)\n",
    "        \n",
    "        # If centroids have not changed, convergence reached\n",
    "        if centroids == new_centroids:\n",
    "            break\n",
    "            \n",
    "        \n",
    "        \n",
    "        centroids = new_centroids\n",
    "    \n",
    "    return labels, centroids\n",
    "\n",
    "\n",
    "k = int(input(\"Enter the number of cluster(k): \"))\n",
    "\n",
    "labels, centroids = kmeans(X, k)\n",
    "labels = [label + 1 for label in labels]\n",
    "\n",
    "\n",
    "# Group the data points by their cluster label\n",
    "clusters = [[] for _ in range(k)]\n",
    "for i, point in enumerate(X):\n",
    "    cluster_label = labels[i]\n",
    "    clusters[cluster_label - 1].append(point)\n",
    "\n",
    "# Print the clusters with their data points\n",
    "for i, cluster in enumerate(clusters):\n",
    "    print(\"Cluster\", i + 1, \":\", cluster)\n",
    "    \n",
    "    \n",
    "   \n",
    "print(\"Final centroids:\", centroids)\n"
   ]
  },
  {
   "cell_type": "code",
   "execution_count": 133,
   "id": "b3175f0f",
   "metadata": {},
   "outputs": [
    {
     "data": {
      "image/png": "[encoded data removed]",
      "text/plain": [
       "<Figure size 640x480 with 1 Axes>"
      ]
     },
     "metadata": {},
     "output_type": "display_data"
    }
   ],
   "source": [
    "#graph after clustering\n",
    "\n",
    "colors = ['r', 'g', 'b', 'c', 'm', 'y']\n",
    "for i, point in enumerate(X):\n",
    "    plt.scatter(point[0], point[1], c=colors[labels[i]])\n",
    "\n",
    "# Plotting the final centroids\n",
    "for centroid in centroids:\n",
    "    plt.scatter(centroid[0], centroid[1], c='black', marker='x')\n",
    "    \n",
    "plt.grid(True)\n",
    "\n",
    "plt.xlim(min(x) - 10, max(x) + 10)\n",
    "plt.ylim(min(y) - 10, max(y) + 10)\n",
    "plt.axhline(0, color='black', linewidth=0.5)\n",
    "plt.axvline(0, color='black', linewidth=0.5)\n",
    "\n",
    "\n",
    "plt.xlabel('X')\n",
    "plt.ylabel('Y')\n",
    "plt.title('K-Means Clustering')\n",
    "plt.show()"
   ]
  },
  {
   "cell_type": "code",
   "execution_count": 134,
   "id": "cb49a4b1",
   "metadata": {},
   "outputs": [
    {
     "name": "stdout",
     "output_type": "stream",
     "text": [
      "[[ 8  4]\n",
      " [24  4]\n",
      " [15  8]\n",
      " [ 4  4]\n",
      " [24 12]]\n"
     ]
    },
    {
     "data": {
      "image/png": "[encoded data removed]",
      "text/plain": [
       "<Figure size 1000x500 with 1 Axes>"
      ]
     },
     "metadata": {},
     "output_type": "display_data"
    }
   ],
   "source": [
    "#dendrogram er jonne. K means er jonne dendrogram painai..So wards method er dendrogram. Wards method hierarchical clustering\n",
    "\n",
    "X = np.array(X)\n",
    "print(X)\n",
    "\n",
    "# Perform k-means clustering\n",
    "Z = linkage(X, method='ward')\n",
    "\n",
    "# Plot the dendrogram\n",
    "plt.figure(figsize=(10, 5))\n",
    "plt.title('K-Means Clustering Dendrogram')\n",
    "plt.xlabel('Data Points')\n",
    "plt.ylabel('Distance')\n",
    "dendrogram(Z, labels=np.arange(1, X.shape[0]+1))\n",
    "plt.show()\n"
   ]
  }
 ],
 "metadata": {
  "kernelspec": {
   "display_name": "Python 3 (ipykernel)",
   "language": "python",
   "name": "python3"
  },
  "language_info": {
   "codemirror_mode": {
    "name": "ipython",
    "version": 3
   },
   "file_extension": ".py",
   "mimetype": "text/x-python",
   "name": "python",
   "nbconvert_exporter": "python",
   "pygments_lexer": "ipython3",
   "version": "3.10.9"
  }
 },
 "nbformat": 4,
 "nbformat_minor": 5
}
